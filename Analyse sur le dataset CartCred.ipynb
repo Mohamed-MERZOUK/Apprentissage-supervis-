{
 "cells": [
  {
   "cell_type": "code",
   "execution_count": null,
   "metadata": {},
   "outputs": [],
   "source": [
    "import pandas as pd\n",
    "import numpy as np\n",
    "import matplotlib.pyplot as plt\n",
    "import seaborn as sns\n",
    "from sklearn.model_selection import train_test_split\n",
    "from sklearn.discriminant_analysis import LinearDiscriminantAnalysis\n",
    "from sklearn.neighbors import KNeighborsClassifier\n",
    "from sklearn.tree import DecisionTreeClassifier\n",
    "from sklearn.naive_bayes import GaussianNB\n",
    "from sklearn.model_selection import KFold\n",
    "from sklearn.model_selection import cross_val_score\n",
    "from sklearn.preprocessing import StandardScaler\n",
    "from sklearn.model_selection import GridSearchCV\n",
    "from sklearn.ensemble import RandomForestClassifier\n",
    "from sklearn.metrics import classification_report\n",
    "from sklearn.metrics import confusion_matrix\n",
    "from sklearn.metrics import accuracy_score\n",
    "from sklearn import neighbors\n",
    "from imblearn.over_sampling import SMOTENC\n",
    "from sklearn.metrics import precision_recall_curve\n",
    "from sklearn.metrics import plot_precision_recall_curve\n",
    "from imblearn.combine import SMOTEENN\n",
    "from imblearn.over_sampling import SMOTE\n",
    "from imblearn.under_sampling import NearMiss\n",
    "from imblearn.under_sampling import ClusterCentroids\n",
    "from sklearn import preprocessing\n",
    "from sklearn.model_selection import cross_val_predict\n",
    "import warnings\n",
    "warnings.filterwarnings('ignore')\n",
    "import io\n",
    "import plotly.offline as py #visualization\n",
    "py.init_notebook_mode(connected=True) #visualization\n",
    "import plotly.graph_objs as go #visualization\n",
    "import plotly.tools as tls #visualization\n",
    "import plotly.figure_factory as ff #visualization\n",
    "import seaborn as sns\n",
    "from IPython.core.display import HTML\n",
    "HTML(\"\"\"\n",
    "<style>\n",
    ".output_png {\n",
    "    display: table-cell;\n",
    "    text-align: center;\n",
    "    vertical-align: middle;\n",
    "}\n",
    "</style>\n",
    "\"\"\")"
   ]
  },
  {
   "cell_type": "markdown",
   "metadata": {},
   "source": [
    "# Lecture des datasets"
   ]
  },
  {
   "cell_type": "code",
   "execution_count": null,
   "metadata": {},
   "outputs": [],
   "source": [
    "creditcard = pd.read_csv(r\"./Datasets/creditcard.csv\")\n",
    "Dataset=creditcard\n",
    "creditcard.head()"
   ]
  },
  {
   "cell_type": "markdown",
   "metadata": {},
   "source": [
    "# Dataset overview"
   ]
  },
  {
   "cell_type": "code",
   "execution_count": null,
   "metadata": {},
   "outputs": [],
   "source": [
    "print (\"Rows     : \", Dataset.shape[0])\n",
    "print (\"Columns  : \", Dataset.shape[1])\n",
    "print (\"\\nFeatures : \\n\", Dataset.columns.tolist())\n",
    "print (\"\\nMissing values :  \", Dataset.isnull().sum().values.sum())\n",
    "print (\"\\nUnique values :  \\n\", Dataset[[\"Time\"]].nunique())\n",
    "print (\"\\nTypes values :  \\n\", Dataset.dtypes)"
   ]
  },
  {
   "cell_type": "markdown",
   "metadata": {},
   "source": [
    "### Head du Dataset"
   ]
  },
  {
   "cell_type": "code",
   "execution_count": null,
   "metadata": {},
   "outputs": [],
   "source": [
    "Dataset.iloc[0:5, 0:16]"
   ]
  },
  {
   "cell_type": "code",
   "execution_count": null,
   "metadata": {
    "scrolled": true
   },
   "outputs": [],
   "source": [
    "Dataset.iloc[0:5, 16:31]"
   ]
  },
  {
   "cell_type": "markdown",
   "metadata": {},
   "source": [
    "# Data preprocessing"
   ]
  },
  {
   "cell_type": "code",
   "execution_count": null,
   "metadata": {},
   "outputs": [],
   "source": [
    "Dataset[\"Class\"] = Dataset[\"Class\"].replace({1:\"Yes\",0:\"No\"})\n",
    "\n",
    "#Amount to categorical column\n",
    "def amount_lab(data) :\n",
    "    \n",
    "    if data[\"Amount\"] <= 51 :\n",
    "        return \"Amount_0-50\"\n",
    "    elif (data[\"Amount\"] >= 51) & (data[\"Amount\"] < 101):\n",
    "        return \"Amount_51-100\"\n",
    "    elif (data[\"Amount\"] >= 101) & (data[\"Amount\"] < 501) :\n",
    "        return \"Amount_101-500\"\n",
    "    elif (data[\"Amount\"] >= 501) & (data[\"Amount\"] < 1001) :\n",
    "        return \"Amount_501-1000\"\n",
    "    elif (data[\"Amount\"] >= 1001) & (data[\"Amount\"] < 1501) :\n",
    "        return \"Amount_1001-1500\"\n",
    "    elif (data[\"Amount\"] >= 1501) & (data[\"Amount\"] < 2001) :\n",
    "        return \"Amount_1501-2000\"\n",
    "    elif (data[\"Amount\"] >= 2001) & (data[\"Amount\"] < 2501) :\n",
    "        return \"Amount_2001-2500\"\n",
    "    elif (data[\"Amount\"] >= 2501) & (data[\"Amount\"] < 3001) :\n",
    "        return \"Amount_2501-3000\"\n",
    "    elif (data[\"Amount\"] >= 3001) & (data[\"Amount\"] < 3501) :\n",
    "        return \"Amount_3001-3500\"\n",
    "    elif data[\"Amount\"] >= 3501 :\n",
    "        return \"Amount_gt_3500\"\n",
    "    \n",
    "SauvAmount = Dataset[\"Amount\"].copy()\n",
    "Dataset[\"Amount\"] = Dataset.apply(lambda Dataset:amount_lab(Dataset), axis = 1)\n",
    "\n",
    "#Separating churn and non churn customers\n",
    "fraud = Dataset[Dataset[\"Class\"] == \"Yes\"]\n",
    "NonFraud = Dataset[Dataset[\"Class\"] == \"No\"]\n",
    "\n",
    "#Separating catagorical and numerical columns\n",
    "target_col = [\"Class\"]\n",
    "cat_cols = [\"Amount\"]\n",
    "num_cols = [\"Time\"]"
   ]
  },
  {
   "cell_type": "markdown",
   "metadata": {},
   "source": [
    "# Analyse univariée"
   ]
  },
  {
   "cell_type": "code",
   "execution_count": null,
   "metadata": {},
   "outputs": [],
   "source": [
    "plt.figure(figsize=(12, 8))\n",
    "\n",
    "df = pd.DataFrame(Dataset[\"Class\"].replace({1:\"Yes\",0:\"No\"}).value_counts())\n",
    "ax = df.plot.bar(y='Class', rot=0, color=[(0.8, 0.4, 0.2, 0.6), (0.2, 0.4, 0.6, 0.6)])\n",
    "plt.title(\"Figure 36 : Répartition des classes\")\n",
    "plt.xlabel(\"Possesssion carte Visa Premier\")\n",
    "plt.ylabel(\"count\")\n",
    "plt.legend(\"\")\n",
    "\n",
    "rects = ax.patches\n",
    "for r in rects:\n",
    "    height = r.get_height()\n",
    "    ax.text(r.get_x() + r.get_width() / 2, \n",
    "            height - height/2, str(round(height/Dataset.shape[0]*100, 2))+\"%\", \n",
    "            ha='center', va='bottom')\n",
    "\n",
    "plt.savefig(r'./Graphs/CartCred/CartCred_repClasses.png')\n",
    "plt.show()"
   ]
  },
  {
   "cell_type": "markdown",
   "metadata": {},
   "source": [
    "# Analyse bivariée"
   ]
  },
  {
   "cell_type": "markdown",
   "metadata": {},
   "source": [
    "### Fraudes en fonction des variables qualitatives"
   ]
  },
  {
   "cell_type": "code",
   "execution_count": null,
   "metadata": {},
   "outputs": [],
   "source": [
    "def plot_pie(column) :\n",
    "    \n",
    "    trace1 = go.Pie(values  = fraud[column].value_counts().values.tolist(),\n",
    "                    labels  = fraud[column].value_counts().keys().tolist(),\n",
    "                    hoverinfo = \"label+percent+name\",\n",
    "                    domain  = dict(x = [0,.48]),\n",
    "                    name    = \"Fraud\",\n",
    "                    marker  = dict(line = dict(width = 2,\n",
    "                                               color = \"rgb(243,243,243)\")\n",
    "                                  ),\n",
    "                    hole    = .6\n",
    "                   )\n",
    "    trace2 = go.Pie(values  = NonFraud[column].value_counts().values.tolist(),\n",
    "                    labels  = NonFraud[column].value_counts().keys().tolist(),\n",
    "                    hoverinfo = \"label+percent+name\",\n",
    "                    marker  = dict(line = dict(width = 2,\n",
    "                                               color = \"rgb(243,243,243)\")\n",
    "                                  ),\n",
    "                    domain  = dict(x = [.52,1]),\n",
    "                    hole    = .6,\n",
    "                    name    = \"NonFraud\" \n",
    "                   )\n",
    "\n",
    "\n",
    "    layout = go.Layout(dict(title = \"Répartition du \" + column,\n",
    "                            plot_bgcolor  = \"rgb(243,243,243)\",\n",
    "                            paper_bgcolor = \"rgb(243,243,243)\",\n",
    "                            title_x=0.5,\n",
    "                            annotations = [dict(text = \"Fraud\",\n",
    "                                                font = dict(size = 13),\n",
    "                                                showarrow = False,\n",
    "                                                x = .15, y = .5),\n",
    "                                           dict(text = \"NonFraud\",\n",
    "                                                font = dict(size = 13),\n",
    "                                                showarrow = False,\n",
    "                                                x = .88,y = .5\n",
    "                                               )\n",
    "                                          ]\n",
    "                           )\n",
    "                      )\n",
    "    data = [trace1,trace2]\n",
    "    fig  = go.Figure(data = data,layout = layout)\n",
    "    py.iplot(fig)\n",
    "# -------------------\n",
    "\n",
    "#for all categorical columns plot pie\n",
    "for i in cat_cols :\n",
    "    plot_pie(i)"
   ]
  },
  {
   "cell_type": "markdown",
   "metadata": {},
   "source": [
    "### Corrélation"
   ]
  },
  {
   "cell_type": "code",
   "execution_count": null,
   "metadata": {
    "scrolled": false
   },
   "outputs": [],
   "source": [
    "Dataset[\"Amount\"] = SauvAmount.copy()\n",
    "corrMatrix = Dataset.iloc[:,:30].corr()\n",
    "trace1 = go.Heatmap( \n",
    "                    x = Dataset.iloc[:,:30].columns.tolist(),\n",
    "                    y = Dataset.iloc[:,:30].columns.tolist(),\n",
    "                    z = corrMatrix.values.tolist()\n",
    "                     ) \n",
    "\n",
    "data = [trace1]\n",
    "layout = go.Layout(dict(title =\"Figure 37 : Heatmap sur les variables quantitatives\",\n",
    "                        plot_bgcolor  = \"rgb(255,255,255)\",\n",
    "                        paper_bgcolor = \"rgb(255,255,255)\",\n",
    "                        title_x=0.5,\n",
    "                        title_y=0.86,\n",
    "                        title_font_color=\"rgb(0, 0, 0)\",\n",
    "                        xaxis = dict(gridcolor = 'rgb(255, 255, 255)',\n",
    "                                         zerolinewidth=1,\n",
    "                                         ticklen=5,\n",
    "                                         gridwidth=2\n",
    "                                        ),\n",
    "                        yaxis = dict(gridcolor = 'rgb(255, 255, 255)',\n",
    "                                         zerolinewidth=1,\n",
    "                                         ticklen=5,\n",
    "                                         gridwidth=2\n",
    "                                        ),\n",
    "                       )\n",
    "                  )\n",
    "fig  = go.Figure(data=data,layout=layout)\n",
    "\n",
    "py.iplot(fig)\n"
   ]
  },
  {
   "cell_type": "markdown",
   "metadata": {},
   "source": [
    "# Partitionnement du Dataset"
   ]
  },
  {
   "cell_type": "code",
   "execution_count": null,
   "metadata": {},
   "outputs": [],
   "source": [
    "Dataset[\"Class\"] = Dataset[\"Class\"].replace({\"Yes\":1,\"No\":0})\n",
    "Dataset[\"Amount\"] = SauvAmount.copy()\n",
    "\n",
    "X = Dataset.loc[:, Dataset.columns != \"Class\"]\n",
    "Y = Dataset[[\"Class\"]]"
   ]
  },
  {
   "cell_type": "markdown",
   "metadata": {},
   "source": [
    "# Normalisation"
   ]
  },
  {
   "cell_type": "code",
   "execution_count": null,
   "metadata": {},
   "outputs": [],
   "source": [
    "X = X.drop(['Time'], axis=1)\n",
    "X_num = X[[\"Amount\"]].copy()\n",
    "rescaledX = X.drop(['Amount'], axis=1)\n",
    "\n",
    "scaler = StandardScaler().fit(X_num)\n",
    "rescaledX_num = scaler.transform(X_num)\n",
    "rescaledX_num = pd.DataFrame(rescaledX_num, columns=[\"Amount\"])\n",
    "rescaledX = pd.concat([rescaledX, rescaledX_num], axis=1)\n",
    "\n",
    "X = rescaledX.copy()"
   ]
  },
  {
   "cell_type": "markdown",
   "metadata": {},
   "source": [
    "# Equilibrage des classes"
   ]
  },
  {
   "cell_type": "code",
   "execution_count": null,
   "metadata": {
    "code_folding": []
   },
   "outputs": [],
   "source": [
    "overUnderSampling = SMOTEENN()\n",
    "X_nm, y_nm = overUnderSampling.fit_resample(X, Y)"
   ]
  },
  {
   "cell_type": "code",
   "execution_count": null,
   "metadata": {},
   "outputs": [],
   "source": [
    "fig = plt.figure(figsize=(7,7))\n",
    "df = pd.DataFrame(y_nm[\"Class\"].replace({1:\"Yes\",0:\"No\"}).value_counts())\n",
    "ax = df.plot.bar(y='Class', rot=0, color=[(0.8, 0.4, 0.2, 0.6), (0.2, 0.4, 0.6, 0.6)])\n",
    "plt.title(\"Figure 38 : Nouvelle répartition des classes\")\n",
    "plt.xlabel(\"Fraud\")\n",
    "plt.ylabel(\"count\")\n",
    "plt.legend('')\n",
    "\n",
    "rects = ax.patches\n",
    "for r in rects:\n",
    "    height = r.get_height()\n",
    "    ax.text(r.get_x() + r.get_width() / 2, \n",
    "            height - height/2, str(round(height/y_nm.shape[0]*100, 2))+\"%\", \n",
    "            ha='center', va='bottom')\n",
    "    \n",
    "plt.savefig(r'./Graphs/CartCred/CartCred_rep50.png')\n",
    "plt.show()"
   ]
  },
  {
   "cell_type": "code",
   "execution_count": null,
   "metadata": {},
   "outputs": [],
   "source": [
    "X_nm = pd.DataFrame(X_nm,columns=X.columns.to_list())\n",
    "y_nm = pd.DataFrame(y_nm,columns=['Class'])"
   ]
  },
  {
   "cell_type": "markdown",
   "metadata": {},
   "source": [
    "# Partitionnement"
   ]
  },
  {
   "cell_type": "code",
   "execution_count": null,
   "metadata": {},
   "outputs": [],
   "source": [
    "seed = 50\n",
    "X_train, X_validation, Y_train, Y_validation = train_test_split(X_nm, y_nm, \n",
    "                                                                test_size=0.3, random_state=seed)\n",
    "X_train.reset_index(drop=True, inplace=True)\n",
    "Y_train.reset_index(drop=True, inplace=True)\n",
    "X_validation.reset_index(drop=True, inplace=True)\n",
    "Y_validation.reset_index(drop=True, inplace=True)"
   ]
  },
  {
   "cell_type": "markdown",
   "metadata": {},
   "source": [
    "# Application des algorithmes de classification"
   ]
  },
  {
   "cell_type": "markdown",
   "metadata": {},
   "source": [
    "### Application du KNN"
   ]
  },
  {
   "cell_type": "code",
   "execution_count": null,
   "metadata": {
    "code_folding": []
   },
   "outputs": [],
   "source": [
    "n_neighbors = 1\n",
    "\n",
    "clf_KNN = neighbors.KNeighborsClassifier(n_neighbors, weights=\"distance\")\n",
    "clf_KNN.fit(X_train,Y_train)\n",
    "Y_pred_KNN = clf_KNN.predict(X_validation)\n",
    "\n",
    "print(\"- Accuracy score \\n\" + str(accuracy_score(Y_validation, Y_pred_KNN)))\n",
    "print(\"\\n- Confusion matrix \\n \" + str(confusion_matrix(Y_validation, Y_pred_KNN)))\n",
    "print(\"\\n- Classification report \\n \" + str(classification_report(Y_validation, Y_pred_KNN)))"
   ]
  },
  {
   "cell_type": "markdown",
   "metadata": {},
   "source": [
    "### Application du Naïve bayésienne"
   ]
  },
  {
   "cell_type": "code",
   "execution_count": null,
   "metadata": {},
   "outputs": [],
   "source": [
    "clf_BN = GaussianNB()\n",
    "clf_BN.fit(X_train,Y_train)\n",
    "Y_pred_BN = clf_BN.predict(X_validation)\n",
    "\n",
    "print(\"- Accuracy score \\n\" + str(accuracy_score(Y_validation, Y_pred_BN)))\n",
    "print(\"\\n- Confusion matrix \\n \" + str(confusion_matrix(Y_validation, Y_pred_BN)))\n",
    "print(\"\\n- Classification report \\n \" + str(classification_report(Y_validation, Y_pred_BN)))"
   ]
  },
  {
   "cell_type": "markdown",
   "metadata": {},
   "source": [
    "### Application de CART"
   ]
  },
  {
   "cell_type": "code",
   "execution_count": null,
   "metadata": {},
   "outputs": [],
   "source": [
    "clf_CART = DecisionTreeClassifier()\n",
    "clf_CART.fit(X_train,Y_train)\n",
    "Y_pred_CART = clf_CART.predict(X_validation)\n",
    "\n",
    "print(\"- Accuracy score \\n\" + str(accuracy_score(Y_validation, Y_pred_CART)))\n",
    "print(\"\\n- Confusion matrix \\n \" + str(confusion_matrix(Y_validation, Y_pred_CART)))\n",
    "print(\"\\n- Classification report \\n \" + str(classification_report(Y_validation, Y_pred_CART)))"
   ]
  },
  {
   "cell_type": "markdown",
   "metadata": {},
   "source": [
    "### Application du RF"
   ]
  },
  {
   "cell_type": "code",
   "execution_count": null,
   "metadata": {},
   "outputs": [],
   "source": [
    "clf_RF = RandomForestClassifier()\n",
    "clf_RF.fit(X_train,Y_train)\n",
    "Y_pred_RF = clf_RF.predict(X_validation)\n",
    "\n",
    "print(\"- Accuracy score \\n\" + str(accuracy_score(Y_validation, Y_pred_RF)))\n",
    "print(\"\\n- Confusion matrix \\n \" + str(confusion_matrix(Y_validation, Y_pred_RF)))\n",
    "print(\"\\n- Classification report \\n \" + str(classification_report(Y_validation, Y_pred_RF)))"
   ]
  },
  {
   "cell_type": "markdown",
   "metadata": {},
   "source": [
    "### Application du LDA"
   ]
  },
  {
   "cell_type": "code",
   "execution_count": null,
   "metadata": {},
   "outputs": [],
   "source": [
    "clf_LDA = LinearDiscriminantAnalysis()\n",
    "clf_LDA.fit(X_train,Y_train)\n",
    "Y_pred_LDA = clf_LDA.predict(X_validation)\n",
    "\n",
    "print(\"- Accuracy score \\n\" + str(accuracy_score(Y_validation, Y_pred_LDA)))\n",
    "print(\"\\n- Confusion matrix \\n \" + str(confusion_matrix(Y_validation, Y_pred_LDA)))\n",
    "print(\"\\n- Classification report \\n \" + str(classification_report(Y_validation, Y_pred_LDA)))"
   ]
  },
  {
   "cell_type": "markdown",
   "metadata": {},
   "source": [
    "### Comparaison des algorithmes de classification"
   ]
  },
  {
   "cell_type": "code",
   "execution_count": null,
   "metadata": {},
   "outputs": [],
   "source": [
    "num_folds = 10\n",
    "scoring = 'accuracy'\n",
    "\n",
    "models = []\n",
    "models.append(('KNN', KNeighborsClassifier()))\n",
    "models.append(('NB', GaussianNB()))\n",
    "models.append(('CART', DecisionTreeClassifier()))\n",
    "models.append(('RF', RandomForestClassifier()))\n",
    "models.append(('LDA', LinearDiscriminantAnalysis()))\n",
    "results = []\n",
    "names = []\n",
    "\n",
    "for name, model in models:\n",
    "\tkfold = KFold(n_splits=num_folds)\n",
    "\tcv_results = cross_val_score(model, X_train, Y_train, cv=kfold, scoring=scoring)\n",
    "\tresults.append(cv_results)\n",
    "\tnames.append(name)\n",
    "\tmsg = \"%s: %f (%f)\" % (name, cv_results.mean(), cv_results.std())\n",
    "\tprint(msg)\n"
   ]
  },
  {
   "cell_type": "code",
   "execution_count": null,
   "metadata": {},
   "outputs": [],
   "source": [
    "results_df = pd.DataFrame(results).transpose()\n",
    "results_df.columns = names\n",
    "results_df"
   ]
  },
  {
   "cell_type": "code",
   "execution_count": null,
   "metadata": {
    "scrolled": false
   },
   "outputs": [],
   "source": [
    "plt.figure(figsize=(15,8))\n",
    "bplot = sns.boxplot(data=results_df, width=0.5)\n",
    "bplot.set_title('Figure 39 : Comparison des algorithmes en terme d\\'Accuracy')\n",
    "plt.ylabel('Accuracy')\n",
    "plt.savefig(r'./Graphs/CartCred/CartCred_AccuracyCompAlgos.png')"
   ]
  },
  {
   "cell_type": "code",
   "execution_count": null,
   "metadata": {},
   "outputs": [],
   "source": [
    "methods = [clf_KNN, clf_BN, clf_CART, clf_RF]\n",
    "methodsName = ['KNN', 'BN', 'CART', 'RF']\n",
    "\n",
    "for clf, name in zip(methods,methodsName):\n",
    "    #clf = clf.fit(X_sm, Y_sm)\n",
    "    Y_pred = clf.predict_proba(X_validation)\n",
    "    Y_pred = Y_pred[:, 1]\n",
    "    lr_precision, lr_recall, _ = precision_recall_curve(Y_validation, Y_pred)\n",
    "    plt.plot(lr_recall, lr_precision, marker='.', label=name)\n",
    "    plt.legend()\n",
    "\n",
    "plt.xlabel('Recall')\n",
    "plt.ylabel('Precision')\n",
    "plt.title('Figure 40 : AUPRC Comparaison')\n",
    "plt.savefig(r'./Graphs/CartCred/CartCred_PrRcCompAlgos.png')\n",
    "plt.show()"
   ]
  },
  {
   "cell_type": "code",
   "execution_count": null,
   "metadata": {},
   "outputs": [],
   "source": []
  }
 ],
 "metadata": {
  "kernelspec": {
   "display_name": "Python 3",
   "language": "python",
   "name": "python3"
  },
  "language_info": {
   "codemirror_mode": {
    "name": "ipython",
    "version": 3
   },
   "file_extension": ".py",
   "mimetype": "text/x-python",
   "name": "python",
   "nbconvert_exporter": "python",
   "pygments_lexer": "ipython3",
   "version": "3.7.3"
  }
 },
 "nbformat": 4,
 "nbformat_minor": 2
}
