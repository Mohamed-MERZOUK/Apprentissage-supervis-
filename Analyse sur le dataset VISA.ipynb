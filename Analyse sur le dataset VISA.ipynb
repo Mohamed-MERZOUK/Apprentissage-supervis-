{
 "cells": [
  {
   "cell_type": "code",
   "execution_count": null,
   "metadata": {},
   "outputs": [],
   "source": [
    "import pandas as pd\n",
    "import numpy as np\n",
    "import matplotlib.pyplot as plt\n",
    "import seaborn as sns\n",
    "from sklearn.model_selection import train_test_split\n",
    "from sklearn.discriminant_analysis import LinearDiscriminantAnalysis\n",
    "from sklearn.neighbors import KNeighborsClassifier\n",
    "from sklearn.tree import DecisionTreeClassifier\n",
    "from sklearn.naive_bayes import GaussianNB\n",
    "from sklearn.model_selection import KFold\n",
    "from sklearn.model_selection import cross_val_score\n",
    "from sklearn.preprocessing import StandardScaler\n",
    "from sklearn.model_selection import GridSearchCV\n",
    "from sklearn.ensemble import RandomForestClassifier\n",
    "from sklearn.metrics import classification_report\n",
    "from sklearn.metrics import confusion_matrix\n",
    "from sklearn.metrics import accuracy_score\n",
    "from sklearn import neighbors\n",
    "from imblearn.over_sampling import SMOTENC\n",
    "from sklearn import preprocessing\n",
    "from sklearn.model_selection import cross_val_predict\n",
    "import warnings\n",
    "warnings.filterwarnings('ignore')\n",
    "import io\n",
    "import plotly.offline as py #visualization\n",
    "py.init_notebook_mode(connected=True) #visualization\n",
    "import plotly.graph_objs as go #visualization\n",
    "import plotly.tools as tls #visualization\n",
    "import plotly.figure_factory as ff #visualization\n",
    "from IPython.core.display import HTML\n",
    "HTML(\"\"\"\n",
    "<style>\n",
    ".output_png {\n",
    "    display: table-cell;\n",
    "    text-align: center;\n",
    "    vertical-align: middle;\n",
    "}\n",
    "</style>\n",
    "\"\"\")"
   ]
  },
  {
   "cell_type": "markdown",
   "metadata": {},
   "source": [
    "# Lecture des datasets"
   ]
  },
  {
   "cell_type": "code",
   "execution_count": null,
   "metadata": {},
   "outputs": [],
   "source": [
    "VisaPremier = pd.read_csv(r\"./Datasets/VisaPremier.txt\", sep=\"\\t\")\n",
    "#VisaPremier.head()\n",
    "Dataset=VisaPremier"
   ]
  },
  {
   "cell_type": "markdown",
   "metadata": {},
   "source": [
    "# Dataset overview"
   ]
  },
  {
   "cell_type": "code",
   "execution_count": null,
   "metadata": {},
   "outputs": [],
   "source": [
    "Dataset=VisaPremier\n",
    "print (\"Rows     : \", Dataset.shape[0])\n",
    "print (\"Columns  : \", Dataset.shape[1])\n",
    "print (\"\\nFeatures : \\n\", Dataset.columns.tolist())\n",
    "print (\"\\nMissing values :  \", Dataset.isnull().sum().values.sum())\n",
    "print (\"\\nUnique values :  \\n\", Dataset.nunique())\n",
    "print (\"\\nTypes values :  \\n\", Dataset.dtypes)"
   ]
  },
  {
   "cell_type": "markdown",
   "metadata": {},
   "source": [
    "### Head du Dataset"
   ]
  },
  {
   "cell_type": "code",
   "execution_count": null,
   "metadata": {},
   "outputs": [],
   "source": [
    "Dataset.iloc[0:5, 0:16]"
   ]
  },
  {
   "cell_type": "code",
   "execution_count": null,
   "metadata": {
    "scrolled": true
   },
   "outputs": [],
   "source": [
    "Dataset.iloc[0:5, 16:31]"
   ]
  },
  {
   "cell_type": "code",
   "execution_count": null,
   "metadata": {
    "scrolled": true
   },
   "outputs": [],
   "source": [
    "Dataset.iloc[0:5, 31:]"
   ]
  },
  {
   "cell_type": "markdown",
   "metadata": {},
   "source": [
    "# Data preprocessing"
   ]
  },
  {
   "cell_type": "code",
   "execution_count": null,
   "metadata": {},
   "outputs": [],
   "source": [
    "Dataset[\"cartevpr\"] = Dataset[\"cartevpr\"].replace({1:\"Yes\",0:\"No\"})\n",
    "Dataset = Dataset.drop(['sexe'], axis=1)\n",
    "Dataset = Dataset.drop(['cartevp'], axis=1)\n",
    "\n",
    "#Drop column that contain all values 0\n",
    "Dataset = Dataset.drop(['nbimpaye'], axis=1)\n",
    "\n",
    "#Correct wrong values\n",
    "Dataset[\"nbpaiecb\"] = pd.to_numeric(Dataset.nbpaiecb, errors='coerce').fillna(0)\n",
    "Dataset[\"agemvt\"] = pd.to_numeric(Dataset.agemvt, errors='coerce').fillna(0)\n",
    "Dataset[\"departem\"] = pd.to_numeric(Dataset.agemvt, errors='coerce').fillna(0)\n",
    "\n",
    "#Age to categorical column\n",
    "def age_lab(data) :\n",
    "    \n",
    "    if data[\"age\"] <= 24 :\n",
    "        return \"Age_15-24\"\n",
    "    elif (data[\"age\"] >= 25) & (data[\"age\"] < 35):\n",
    "        return \"Age_25-34\"\n",
    "    elif (data[\"age\"] >= 35) & (data[\"age\"] < 45) :\n",
    "        return \"Age_35-44\"\n",
    "    elif (data[\"age\"] >= 45) & (data[\"age\"] < 55) :\n",
    "        return \"Age_45-54\"\n",
    "    elif data[\"age\"] >= 55 :\n",
    "        return \"Age_gt_55\"\n",
    "\n",
    "SauvAge = Dataset[\"age\"].copy()\n",
    "Dataset[\"age\"] = Dataset.apply(lambda Dataset:age_lab(Dataset), axis = 1)\n",
    "\n",
    "#Separating possCarte and non possCarte clients\n",
    "possCarte = Dataset[Dataset[\"cartevpr\"] == \"Yes\"]\n",
    "NonPossCarte = Dataset[Dataset[\"cartevpr\"] == \"No\"]\n",
    "\n",
    "#Separating catagorical and numerical columns\n",
    "Id_col     = ['matricul']\n",
    "target_col = [\"cartevpr\"]\n",
    "\n",
    "cat_cols   = [\"ptvente\", \"age\", \"sexer\", \"sitfamil\", \"csp\", \"codeqlt\"]\n",
    "num_cols   = [\"departem\", \"anciente\", \"mtrejet\", \"nbopguic\", \"moycred3\", \"aveparmo\", \"endette\", \"engagemt\", \"engagemc\",\n",
    "              \"engagemm\", \"nbcptvue\", \"moysold3\", \"moycredi\", \"agemvt\", \"nbop\", \"mtfactur\", \"engageml\", \"nbvie\", \"mtvie\",\n",
    "              \"nbeparmo\", \"mteparmo\", \"nbeparlo\", \"mteparlo\", \"nblivret\", \"mtlivret\", \"nbeparlt\", \"mteparlt\", \"nbeparte\", \n",
    "              \"mteparte\", \"nbbon\", \"mtbon\", \"nbpaiecb\", \"nbcb\", \"nbcbptar\", \"avtscpte\", \"aveparfi\", \"nbjdebit\"]"
   ]
  },
  {
   "cell_type": "markdown",
   "metadata": {},
   "source": [
    "# Analyse univariée"
   ]
  },
  {
   "cell_type": "code",
   "execution_count": null,
   "metadata": {
    "code_folding": []
   },
   "outputs": [],
   "source": [
    "plt.figure(figsize=(12, 8))\n",
    "\n",
    "df = pd.DataFrame(Dataset[\"cartevpr\"].replace({1:\"Yes\",0:\"No\"}).value_counts())\n",
    "ax = df.plot.bar(y='cartevpr', rot=0, color=[(0.8, 0.4, 0.2, 0.6), (0.2, 0.4, 0.6, 0.6)])\n",
    "plt.title(\"Figure 31 : Répartition des classes\")\n",
    "plt.xlabel(\"Possesssion carte Visa Premier\")\n",
    "plt.ylabel(\"count\")\n",
    "plt.legend(\"\")\n",
    "\n",
    "rects = ax.patches\n",
    "for r in rects:\n",
    "    height = r.get_height()\n",
    "    ax.text(r.get_x() + r.get_width() / 2, \n",
    "            height - height/2, str(round(height/Dataset.shape[0]*100, 2))+\"%\", \n",
    "            ha='center', va='bottom')\n",
    "\n",
    "plt.savefig(r'./Graphs/VISA/VISA_ScoresVarK.png')\n",
    "plt.show()"
   ]
  },
  {
   "cell_type": "markdown",
   "metadata": {},
   "source": [
    "# Analyse bivariée"
   ]
  },
  {
   "cell_type": "markdown",
   "metadata": {},
   "source": [
    "### Posession de la carte en fonction des variables qualitatives"
   ]
  },
  {
   "cell_type": "code",
   "execution_count": null,
   "metadata": {
    "scrolled": true
   },
   "outputs": [],
   "source": [
    "def plot_pie(column) :\n",
    "    \n",
    "    trace1 = go.Pie(values  = possCarte[column].value_counts().values.tolist(),\n",
    "                    labels  = possCarte[column].value_counts().keys().tolist(),\n",
    "                    hoverinfo = \"label+percent+name\",\n",
    "                    domain  = dict(x = [0,.48]),\n",
    "                    name    = \"Clients possCarte\",\n",
    "                    marker  = dict(line = dict(width = 2,\n",
    "                                               color = \"rgb(243,243,243)\")\n",
    "                                  ),\n",
    "                    hole    = .6\n",
    "                   )\n",
    "    trace2 = go.Pie(values  = NonPossCarte[column].value_counts().values.tolist(),\n",
    "                    labels  = NonPossCarte[column].value_counts().keys().tolist(),\n",
    "                    hoverinfo = \"label+percent+name\",\n",
    "                    marker  = dict(line = dict(width = 2,\n",
    "                                               color = \"rgb(243,243,243)\")\n",
    "                                  ),\n",
    "                    domain  = dict(x = [.52,1]),\n",
    "                    hole    = .6,\n",
    "                    name    = \"Clients NonPossCarte\" \n",
    "                   )\n",
    "\n",
    "\n",
    "    layout = go.Layout(dict(title = \"Répartition du \" + column,\n",
    "                            plot_bgcolor  = \"rgb(243,243,243)\",\n",
    "                            paper_bgcolor = \"rgb(243,243,243)\",\n",
    "                            title_x=0.5,\n",
    "                            annotations = [dict(text = \"Clients PossCarte\",\n",
    "                                                font = dict(size = 13),\n",
    "                                                showarrow = False,\n",
    "                                                x = .15, y = .5),\n",
    "                                           dict(text = \"Clients NonPossCarte\",\n",
    "                                                font = dict(size = 13),\n",
    "                                                showarrow = False,\n",
    "                                                x = .88,y = .5\n",
    "                                               )\n",
    "                                          ]\n",
    "                           )\n",
    "                      )\n",
    "    data = [trace1,trace2]\n",
    "    fig  = go.Figure(data = data,layout = layout)\n",
    "    py.iplot(fig)\n",
    "# -------------------\n",
    "\n",
    "#for all categorical columns plot pie\n",
    "for i in cat_cols :\n",
    "    plot_pie(i)"
   ]
  },
  {
   "cell_type": "markdown",
   "metadata": {},
   "source": [
    "### Posession de la carte en fonction des variables quantitatives"
   ]
  },
  {
   "cell_type": "code",
   "execution_count": null,
   "metadata": {
    "scrolled": true
   },
   "outputs": [],
   "source": [
    "def histogram(column) :\n",
    "    trace1 = go.Histogram(x  = possCarte[column],\n",
    "                          histnorm= \"percent\",\n",
    "                          name = \"Clients PossCarte\",\n",
    "                          marker = dict(line = dict(width = .5,\n",
    "                                                    color = \"black\"\n",
    "                                                    )\n",
    "                                        ),\n",
    "                         opacity = .9 \n",
    "                         ) \n",
    "    \n",
    "    trace2 = go.Histogram(x  = NonPossCarte[column],\n",
    "                          histnorm = \"percent\",\n",
    "                          name = \"Clients NonPossCarte\",\n",
    "                          marker = dict(line = dict(width = .5,\n",
    "                                              color = \"black\"\n",
    "                                             )\n",
    "                                 ),\n",
    "                          opacity = .9\n",
    "                         )\n",
    "    \n",
    "    data = [trace1,trace2]\n",
    "    layout = go.Layout(dict(title =\"Répartition du \" + column,\n",
    "                            plot_bgcolor  = \"rgb(243,243,243)\",\n",
    "                            paper_bgcolor = \"rgb(243,243,243)\",\n",
    "                            title_x=0.5,\n",
    "                            xaxis = dict(gridcolor = 'rgb(255, 255, 255)',\n",
    "                                             title = column,\n",
    "                                             zerolinewidth=1,\n",
    "                                             ticklen=5,\n",
    "                                             gridwidth=2\n",
    "                                            ),\n",
    "                            yaxis = dict(gridcolor = 'rgb(255, 255, 255)',\n",
    "                                             title = \"percent\",\n",
    "                                             zerolinewidth=1,\n",
    "                                             ticklen=5,\n",
    "                                             gridwidth=2\n",
    "                                            ),\n",
    "                           )\n",
    "                      )\n",
    "    fig  = go.Figure(data=data,layout=layout)\n",
    "    \n",
    "    py.iplot(fig)\n",
    "    \n",
    "#for all categorical columns plot histogram    \n",
    "for i in num_cols :\n",
    "    histogram(i)"
   ]
  },
  {
   "cell_type": "markdown",
   "metadata": {},
   "source": [
    "### Corrélation"
   ]
  },
  {
   "cell_type": "code",
   "execution_count": null,
   "metadata": {
    "scrolled": false
   },
   "outputs": [],
   "source": [
    "corrMatrix = Dataset[num_cols].iloc[:,1:].corr()\n",
    "trace1 = go.Heatmap( \n",
    "                    x = num_cols[1:],\n",
    "                    y = num_cols[1:],\n",
    "                    z = corrMatrix.values.tolist()\n",
    "                     ) \n",
    "\n",
    "data = [trace1]\n",
    "layout = go.Layout(dict(title =\"Figure 32 : Heatmap sur les variables quantitatives\",\n",
    "                        plot_bgcolor  = \"rgb(255, 255, 255)\",\n",
    "                        paper_bgcolor = \"rgb(255, 255, 255)\",\n",
    "                        title_x=0.5,\n",
    "                        title_y=0.86,\n",
    "                        title_font_color=\"rgb(0, 0, 0)\",\n",
    "                        xaxis = dict(gridcolor = 'rgb(255, 255, 255)',\n",
    "                                         zerolinewidth=1,\n",
    "                                         ticklen=5,\n",
    "                                         gridwidth=2\n",
    "                                        ),\n",
    "                        yaxis = dict(gridcolor = 'rgb(255, 255, 255)',\n",
    "                                         zerolinewidth=1,\n",
    "                                         ticklen=5,\n",
    "                                         gridwidth=2\n",
    "                                        ),\n",
    "                       )\n",
    "                  )\n",
    "fig  = go.Figure(data=data,layout=layout)\n",
    "\n",
    "py.iplot(fig)\n"
   ]
  },
  {
   "cell_type": "markdown",
   "metadata": {},
   "source": [
    "### Drop columns with high correlation"
   ]
  },
  {
   "cell_type": "code",
   "execution_count": null,
   "metadata": {},
   "outputs": [],
   "source": [
    "# Select upper triangle of correlation matrix\n",
    "upper = corrMatrix.where(np.triu(np.ones(corrMatrix.shape), k=1).astype(np.bool))\n",
    "\n",
    "# Find features with correlation greater than 0.95\n",
    "to_drop = [column for column in upper.columns if any(upper[column] > 0.95)]\n",
    "\n",
    "# Drop features \n",
    "oldData = Dataset.copy()\n",
    "Dataset.drop(to_drop, axis=1, inplace=True)\n",
    "for col in to_drop: num_cols.remove(col)\n",
    "\n",
    "# Show columns\n",
    "colHighCorr = to_drop\n",
    "colHighCorr.append(\"moycred3\")\n",
    "colHighCorr.append(\"mtvie\")\n",
    "oldData[to_drop].corr()"
   ]
  },
  {
   "cell_type": "markdown",
   "metadata": {},
   "source": [
    "# Partitionnement en X y"
   ]
  },
  {
   "cell_type": "code",
   "execution_count": null,
   "metadata": {},
   "outputs": [],
   "source": [
    "Dataset = Dataset.drop(['matricul'], axis=1)\n",
    "Dataset[\"cartevpr\"] = Dataset[\"cartevpr\"].replace({\"Yes\":1,\"No\":0})\n",
    "Dataset[\"age\"] = SauvAge.copy()\n",
    "\n",
    "X = Dataset.loc[:, Dataset.columns != \"cartevpr\"]\n",
    "Y = Dataset[[\"cartevpr\"]]"
   ]
  },
  {
   "cell_type": "markdown",
   "metadata": {},
   "source": [
    "# Encodage des données catégorielles"
   ]
  },
  {
   "cell_type": "code",
   "execution_count": null,
   "metadata": {},
   "outputs": [],
   "source": [
    "le = preprocessing.LabelEncoder()\n",
    "X['ptvente'] = le.fit_transform(X['ptvente'])\n",
    "X['sitfamil'] = le.fit_transform(X['sitfamil'])\n",
    "X['csp'] = le.fit_transform(X['csp'])\n",
    "X['codeqlt'] = le.fit_transform(X['codeqlt'])"
   ]
  },
  {
   "cell_type": "markdown",
   "metadata": {},
   "source": [
    "# Normalisation"
   ]
  },
  {
   "cell_type": "code",
   "execution_count": null,
   "metadata": {},
   "outputs": [],
   "source": [
    "num_cols.remove('departem')\n",
    "cat_cols.append('departem')\n",
    "cat_cols.remove('age')\n",
    "num_cols.append('age')\n",
    "\n",
    "X_num = X[num_cols]\n",
    "\n",
    "scaler = StandardScaler().fit(X_num)\n",
    "rescaledX_num = scaler.transform(X_num)\n",
    "rescaledX_num = pd.DataFrame(rescaledX_num, columns=num_cols)\n",
    "rescaledX = pd.concat([X[cat_cols], rescaledX_num], axis=1)"
   ]
  },
  {
   "cell_type": "markdown",
   "metadata": {},
   "source": [
    "# Equilibrage des classes"
   ]
  },
  {
   "cell_type": "code",
   "execution_count": null,
   "metadata": {},
   "outputs": [],
   "source": [
    "cat_features=[]\n",
    "\n",
    "for i in cat_cols: cat_features.append(rescaledX.columns.get_loc(i))\n",
    "\n",
    "smote = SMOTENC(sampling_strategy = 'minority', categorical_features = cat_features)\n",
    "X_sm, Y_sm = smote.fit_sample(rescaledX, Y)"
   ]
  },
  {
   "cell_type": "code",
   "execution_count": null,
   "metadata": {},
   "outputs": [],
   "source": [
    "fig = plt.figure(figsize=(7,7))\n",
    "df = pd.DataFrame(Y_sm[\"cartevpr\"].replace({1:\"Yes\",0:\"No\"}).value_counts())\n",
    "ax = df.plot.bar(y='cartevpr', rot=0, color=[(0.8, 0.4, 0.2, 0.6), (0.2, 0.4, 0.6, 0.6)])\n",
    "plt.title(\"Figure 33 : Nouvelle répartition des classes\")\n",
    "plt.xlabel(\"Possesssion carte Visa Premier\")\n",
    "plt.ylabel(\"count\")\n",
    "plt.legend('')\n",
    "\n",
    "rects = ax.patches\n",
    "for r in rects:\n",
    "    height = r.get_height()\n",
    "    ax.text(r.get_x() + r.get_width() / 2, \n",
    "            height - height/2, str(round(height/Y_sm.shape[0]*100, 2))+\"%\", \n",
    "            ha='center', va='bottom')\n",
    "    \n",
    "plt.savefig(r'./Graphs/VISA/VISA_rep50.png')\n",
    "plt.show()"
   ]
  },
  {
   "cell_type": "markdown",
   "metadata": {},
   "source": [
    "# Application des algorithmes de classification"
   ]
  },
  {
   "cell_type": "markdown",
   "metadata": {},
   "source": [
    "### Application du KNN en variant la valeur K"
   ]
  },
  {
   "cell_type": "code",
   "execution_count": null,
   "metadata": {},
   "outputs": [],
   "source": [
    "n_neighbors = 1\n",
    "clf_KNN = neighbors.KNeighborsClassifier(n_neighbors, weights=\"distance\")\n",
    "kfold = KFold(n_splits=10)\n",
    "Y_pred_KNN = cross_val_predict(clf_KNN, X_sm, Y_sm, cv=kfold)\n",
    "\n",
    "print(\"- Accuracy score \\n\" + str(accuracy_score(Y_sm, Y_pred_KNN)))\n",
    "print(\"\\n- Confusion matrix \\n \" + str(confusion_matrix(Y_sm, Y_pred_KNN)))\n",
    "print(\"\\n- Classification report \\n \" + str(classification_report(Y_sm, Y_pred_KNN)))"
   ]
  },
  {
   "cell_type": "markdown",
   "metadata": {},
   "source": [
    "### Application du Naïve bayésienne"
   ]
  },
  {
   "cell_type": "code",
   "execution_count": null,
   "metadata": {
    "scrolled": true
   },
   "outputs": [],
   "source": [
    "clf_BN = GaussianNB()\n",
    "kfold = KFold(n_splits=10)\n",
    "Y_pred_BN = cross_val_predict(clf_BN, X_sm, Y_sm, cv=kfold)\n",
    "\n",
    "print(\"- Accuracy score \\n\" + str(accuracy_score(Y_sm, Y_pred_BN)))\n",
    "print(\"\\n- Confusion matrix \\n \" + str(confusion_matrix(Y_sm, Y_pred_BN)))\n",
    "print(\"\\n- Classification report \\n \" + str(classification_report(Y_sm, Y_pred_BN)))"
   ]
  },
  {
   "cell_type": "markdown",
   "metadata": {},
   "source": [
    "### Application de CART"
   ]
  },
  {
   "cell_type": "code",
   "execution_count": null,
   "metadata": {},
   "outputs": [],
   "source": [
    "clf_CART = DecisionTreeClassifier()\n",
    "kfold = KFold(n_splits=10)\n",
    "Y_pred_CART = cross_val_predict(clf_CART, X_sm, Y_sm, cv=kfold)\n",
    "\n",
    "print(\"- Accuracy score \\n\" + str(accuracy_score(Y_sm, Y_pred_CART)))\n",
    "print(\"\\n- Confusion matrix \\n \" + str(confusion_matrix(Y_sm, Y_pred_CART)))\n",
    "print(\"\\n- Classification report \\n \" + str(classification_report(Y_sm, Y_pred_CART)))"
   ]
  },
  {
   "cell_type": "markdown",
   "metadata": {},
   "source": [
    "### Application du RF"
   ]
  },
  {
   "cell_type": "code",
   "execution_count": null,
   "metadata": {},
   "outputs": [],
   "source": [
    "clf_RF = RandomForestClassifier()\n",
    "kfold = KFold(n_splits=10)\n",
    "Y_pred_RF = cross_val_predict(clf_RF, X_sm, Y_sm, cv=kfold)\n",
    "\n",
    "print(\"- Accuracy score \\n\" + str(accuracy_score(Y_sm, Y_pred_RF)))\n",
    "print(\"\\n- Confusion matrix \\n \" + str(confusion_matrix(Y_sm, Y_pred_RF)))\n",
    "print(\"\\n- Classification report \\n \" + str(classification_report(Y_sm, Y_pred_RF)))"
   ]
  },
  {
   "cell_type": "markdown",
   "metadata": {},
   "source": [
    "### Application du LDA"
   ]
  },
  {
   "cell_type": "code",
   "execution_count": null,
   "metadata": {},
   "outputs": [],
   "source": [
    "clf_LDA = LinearDiscriminantAnalysis()\n",
    "kfold = KFold(n_splits=10)\n",
    "Y_pred_LDA = cross_val_predict(clf_LDA, X_sm, Y_sm, cv=kfold)\n",
    "\n",
    "print(\"- Accuracy score \\n\" + str(accuracy_score(Y_sm, Y_pred_LDA)))\n",
    "print(\"\\n- Confusion matrix \\n \" + str(confusion_matrix(Y_sm, Y_pred_LDA)))\n",
    "print(\"\\n- Classification report \\n \" + str(classification_report(Y_sm, Y_pred_LDA)))"
   ]
  },
  {
   "cell_type": "markdown",
   "metadata": {},
   "source": [
    "### Comparaison des algorithmes de classification"
   ]
  },
  {
   "cell_type": "markdown",
   "metadata": {},
   "source": [
    "#### Accuracy"
   ]
  },
  {
   "cell_type": "code",
   "execution_count": null,
   "metadata": {},
   "outputs": [],
   "source": [
    "num_folds = 10\n",
    "scoring = 'accuracy'\n",
    "\n",
    "models = []\n",
    "models.append(('KNN', KNeighborsClassifier()))\n",
    "models.append(('NB', GaussianNB()))\n",
    "models.append(('CART', DecisionTreeClassifier()))\n",
    "models.append(('RF', RandomForestClassifier()))\n",
    "models.append(('LDA', LinearDiscriminantAnalysis()))\n",
    "results = []\n",
    "names = []\n",
    "\n",
    "for name, model in models:\n",
    "\tkfold = KFold(n_splits=num_folds)\n",
    "\tcv_results = cross_val_score(model, X_sm, Y_sm, cv=kfold, scoring=scoring)\n",
    "\tresults.append(cv_results)\n",
    "\tnames.append(name)\n",
    "\tmsg = \"%s: %f (%f)\" % (name, cv_results.mean(), cv_results.std())\n",
    "\tprint(msg)\n"
   ]
  },
  {
   "cell_type": "code",
   "execution_count": null,
   "metadata": {
    "scrolled": false
   },
   "outputs": [],
   "source": [
    "results_df = pd.DataFrame(results).transpose()\n",
    "results_df.columns = names\n",
    "results_df"
   ]
  },
  {
   "cell_type": "code",
   "execution_count": null,
   "metadata": {
    "scrolled": false
   },
   "outputs": [],
   "source": [
    "plt.figure(figsize=(15,8))\n",
    "bplot = sns.boxplot(data=results_df, width=0.5)\n",
    "bplot.set_title('Figure 34 : Accuracy Algorithm Comparison')\n",
    "plt.ylabel(\"Accuracy\")\n",
    "plt.savefig(r'./Graphs/VISA/VISA_Accuracy.png')"
   ]
  },
  {
   "cell_type": "markdown",
   "metadata": {},
   "source": [
    "#### F-measure"
   ]
  },
  {
   "cell_type": "code",
   "execution_count": null,
   "metadata": {},
   "outputs": [],
   "source": [
    "num_folds = 10\n",
    "scoring = 'f1_weighted'\n",
    "\n",
    "models = []\n",
    "models.append(('KNN', KNeighborsClassifier()))\n",
    "models.append(('NB', GaussianNB()))\n",
    "models.append(('CART', DecisionTreeClassifier()))\n",
    "models.append(('RF', RandomForestClassifier()))\n",
    "models.append(('LDA', LinearDiscriminantAnalysis()))\n",
    "results = []\n",
    "names = []\n",
    "\n",
    "for name, model in models:\n",
    "\tkfold = KFold(n_splits=num_folds)\n",
    "\tcv_results = cross_val_score(model, X_sm, Y_sm, cv=kfold, scoring=scoring)\n",
    "\tresults.append(cv_results)\n",
    "\tnames.append(name)\n",
    "\tmsg = \"%s: %f (%f)\" % (name, cv_results.mean(), cv_results.std())\n",
    "\tprint(msg)"
   ]
  },
  {
   "cell_type": "code",
   "execution_count": null,
   "metadata": {},
   "outputs": [],
   "source": [
    "results_df = pd.DataFrame(results).transpose()\n",
    "results_df.columns = names\n",
    "results_df"
   ]
  },
  {
   "cell_type": "code",
   "execution_count": null,
   "metadata": {},
   "outputs": [],
   "source": [
    "plt.figure(figsize=(15,8))\n",
    "bplot = sns.boxplot(data=results_df, width=0.5)\n",
    "bplot.set_title('Figure 35 : F-measure Algorithm Comparison')\n",
    "plt.ylabel(\"F-measure\")\n",
    "plt.savefig(r'./Graphs/VISA/VISA_Fmeasure.png')"
   ]
  },
  {
   "cell_type": "code",
   "execution_count": null,
   "metadata": {},
   "outputs": [],
   "source": []
  }
 ],
 "metadata": {
  "kernelspec": {
   "display_name": "Python 3",
   "language": "python",
   "name": "python3"
  },
  "language_info": {
   "codemirror_mode": {
    "name": "ipython",
    "version": 3
   },
   "file_extension": ".py",
   "mimetype": "text/x-python",
   "name": "python",
   "nbconvert_exporter": "python",
   "pygments_lexer": "ipython3",
   "version": "3.7.3"
  }
 },
 "nbformat": 4,
 "nbformat_minor": 2
}
