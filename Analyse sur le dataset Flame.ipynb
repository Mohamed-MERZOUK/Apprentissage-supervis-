{
 "cells": [
  {
   "cell_type": "code",
   "execution_count": null,
   "metadata": {},
   "outputs": [],
   "source": [
    "import pandas as pd\n",
    "import numpy as np\n",
    "import matplotlib.pyplot as plt\n",
    "import seaborn as sns\n",
    "from sklearn.model_selection import train_test_split\n",
    "from sklearn.linear_model import LogisticRegression\n",
    "from sklearn.discriminant_analysis import LinearDiscriminantAnalysis\n",
    "from sklearn.neighbors import KNeighborsClassifier\n",
    "from sklearn.tree import DecisionTreeClassifier\n",
    "from sklearn.naive_bayes import GaussianNB\n",
    "from sklearn.svm import SVC\n",
    "from sklearn.model_selection import KFold\n",
    "from sklearn.model_selection import cross_val_score\n",
    "from sklearn.preprocessing import StandardScaler\n",
    "from sklearn.model_selection import GridSearchCV\n",
    "from sklearn.pipeline import Pipeline\n",
    "from sklearn.ensemble import AdaBoostClassifier\n",
    "from sklearn.ensemble import GradientBoostingClassifier\n",
    "from sklearn.ensemble import RandomForestClassifier\n",
    "from sklearn.ensemble import ExtraTreesClassifier\n",
    "from sklearn.metrics import classification_report\n",
    "from sklearn.metrics import confusion_matrix\n",
    "from sklearn.metrics import accuracy_score\n",
    "from matplotlib.colors import ListedColormap\n",
    "from sklearn.model_selection import cross_val_predict\n",
    "from sklearn import neighbors\n",
    "import warnings\n",
    "warnings.filterwarnings('ignore')\n",
    "from plot_boundaries import plot_boundaries\n",
    "from IPython.core.display import HTML\n",
    "HTML(\"\"\"\n",
    "<style>\n",
    ".output_png {\n",
    "    display: table-cell;\n",
    "    text-align: center;\n",
    "    vertical-align: middle;\n",
    "}\n",
    "</style>\n",
    "\"\"\")\n"
   ]
  },
  {
   "cell_type": "markdown",
   "metadata": {},
   "source": [
    "# Lecture des datasets"
   ]
  },
  {
   "cell_type": "code",
   "execution_count": null,
   "metadata": {},
   "outputs": [],
   "source": [
    "flame = pd.read_csv(r\"./Datasets/flame.txt\",\n",
    "                    sep=\"\\t\",\n",
    "                    names=[\"V1\", \"V2\", \"class\"])"
   ]
  },
  {
   "cell_type": "code",
   "execution_count": null,
   "metadata": {},
   "outputs": [],
   "source": [
    "creditcard = pd.read_csv(r\"Enonce\\Datasets_projet_MLDS_M1\\creditcard.csv\")\n",
    "#creditcard.head()"
   ]
  },
  {
   "cell_type": "code",
   "execution_count": null,
   "metadata": {},
   "outputs": [],
   "source": [
    "Dataset=flame\n",
    "print(\"Les dimensions du dataset\")\n",
    "print(str(Dataset.shape)+\"\\n--------------------------\")\n",
    "print(\"Les types des variables du dataset\")\n",
    "print(str(Dataset.dtypes)+\"\\n-------------------------\")\n",
    "print(\"Head du dataset\")\n",
    "print(Dataset.head())"
   ]
  },
  {
   "cell_type": "markdown",
   "metadata": {},
   "source": [
    "## Analyse univariée"
   ]
  },
  {
   "cell_type": "code",
   "execution_count": null,
   "metadata": {},
   "outputs": [],
   "source": [
    "Dataset[[\"V1\",\"V2\"]].describe()"
   ]
  },
  {
   "cell_type": "code",
   "execution_count": null,
   "metadata": {},
   "outputs": [],
   "source": [
    "print ('Nombre d\\'attributs de class 1 : ' + str(Dataset['class'][Dataset['class']==1].count()))\n",
    "print ('Nombre d\\'attributs de class 2 : ' + str(Dataset['class'][Dataset['class']==2].count()))"
   ]
  },
  {
   "cell_type": "code",
   "execution_count": null,
   "metadata": {},
   "outputs": [],
   "source": [
    "Dataset.groupby(\"class\").mean()"
   ]
  },
  {
   "cell_type": "code",
   "execution_count": null,
   "metadata": {},
   "outputs": [],
   "source": [
    "fig = plt.figure(figsize=(12,6))\n",
    "ax = sns.histplot(data=Dataset[[\"V1\",\"V2\"]])\n",
    "ax.set_title('Flame Histogramme')\n",
    "fig.savefig(r'./Graphs/Flame/Flame_Histogramme.png')"
   ]
  },
  {
   "cell_type": "code",
   "execution_count": null,
   "metadata": {},
   "outputs": [],
   "source": [
    "fig1 = plt.figure(figsize=(12,6))\n",
    "sns.displot(Dataset[[\"V1\",\"V2\"]], kind=\"kde\", fill=True)\n",
    "plt.title('Figure 1 : Flame - Graphe de densité')\n",
    "fig1.savefig(r'./Graphs/Flame/Flame_Density.png')"
   ]
  },
  {
   "cell_type": "code",
   "execution_count": null,
   "metadata": {},
   "outputs": [],
   "source": [
    "fig = plt.figure(figsize=(6,6))\n",
    "ax = sns.boxplot(data=Dataset[[\"V1\",\"V2\"]])\n",
    "ax.set_title('Figure 1 : Flame - Box Plot')\n",
    "fig.savefig(r'./Graphs/Flame/Flame_BoxPlot.png')"
   ]
  },
  {
   "cell_type": "code",
   "execution_count": null,
   "metadata": {},
   "outputs": [],
   "source": [
    "fig1 = plt.figure(0)\n",
    "f = Dataset.groupby('class').count()\n",
    "f.plot.pie(y='V1', figsize=(5, 5), explode = (0, 0.1), shadow=True, startangle=90, autopct='%1.1f%%')\n",
    "plt.title('Figure 2 : Flame - Pie Plot')\n",
    "plt.ylabel(\"\")\n",
    "plt.savefig(r'./Graphs/Flame/Flame_PiePlot1.png')"
   ]
  },
  {
   "cell_type": "markdown",
   "metadata": {},
   "source": [
    "## Analyse bivariée"
   ]
  },
  {
   "cell_type": "code",
   "execution_count": null,
   "metadata": {},
   "outputs": [],
   "source": [
    "plt.figure(figsize=(12,6))\n",
    "groups = Dataset.groupby(\"class\")\n",
    "for name, group in groups:\n",
    "    plot = plt.plot(group[\"V1\"], group[\"V2\"], marker=\"o\", linestyle=\"\", label=name)\n",
    "plt.legend()\n",
    "plt.xlabel(\"V1\")\n",
    "plt.ylabel(\"V2\")\n",
    "plt.title(\"Figure 3 : Flame - Nuage de points\")\n",
    "plt.savefig(r'./Graphs/Flame/Flame_ScatterPlot.png')"
   ]
  },
  {
   "cell_type": "markdown",
   "metadata": {},
   "source": [
    "## Partitionnement du Dataset"
   ]
  },
  {
   "cell_type": "code",
   "execution_count": null,
   "metadata": {},
   "outputs": [],
   "source": [
    "seed = 50\n",
    "X_train, X_validation, Y_train, Y_validation = train_test_split(Dataset[[\"V1\",\"V2\"]], Dataset[[\"class\"]],\n",
    "                                                                test_size=0.3, random_state=seed)\n",
    "X_train.reset_index(drop=True, inplace=True)\n",
    "Y_train.reset_index(drop=True, inplace=True)\n",
    "X_validation.reset_index(drop=True, inplace=True)\n",
    "Y_validation.reset_index(drop=True, inplace=True)"
   ]
  },
  {
   "cell_type": "markdown",
   "metadata": {},
   "source": [
    "## Application des algorithmes de classification"
   ]
  },
  {
   "cell_type": "markdown",
   "metadata": {},
   "source": [
    "### Application du KNN en variant la valeur K"
   ]
  },
  {
   "cell_type": "code",
   "execution_count": null,
   "metadata": {},
   "outputs": [],
   "source": [
    "num_folds = 10\n",
    "scoring = 'accuracy'\n",
    "voisins = [i for i in range(1,21)]\n",
    "param_grid = dict(n_neighbors=voisins)\n",
    "model = KNeighborsClassifier()\n",
    "kfold = KFold(n_splits=num_folds)\n",
    "grid = GridSearchCV(estimator=model, param_grid=param_grid, scoring=scoring, cv=kfold)\n",
    "grid_result = grid.fit(X_train, Y_train)\n",
    "print(\"Best: %f using %s\" % (grid_result.best_score_, grid_result.best_params_))\n",
    "means = grid_result.cv_results_['mean_test_score']\n",
    "stds = grid_result.cv_results_['std_test_score']\n",
    "params = grid_result.cv_results_['params']\n",
    "for mean, stdev, param in zip(means, stds, params):\n",
    "    print(\"%f (%f) with: %r\" % (mean, stdev, param))"
   ]
  },
  {
   "cell_type": "code",
   "execution_count": null,
   "metadata": {},
   "outputs": [],
   "source": [
    "p = [param.get(\"n_neighbors\", \"\") for param in params]\n",
    "l = [p, means]\n",
    "df = pd.DataFrame(l).transpose()\n",
    "df.columns = [\"K\", \"score moyen du test\"]\n",
    "plt.figure(figsize=(15,8))\n",
    "sns.lineplot(data=df, x=\"K\", y=\"score moyen du test\")\n",
    "plt.title(\"Figure 4 : Scores moyens de précision en variant le K\")\n",
    "plt.savefig(r'./Graphs/Flame/Flame_ScoresVarK.png')"
   ]
  },
  {
   "cell_type": "code",
   "execution_count": null,
   "metadata": {},
   "outputs": [],
   "source": [
    "n_neighbors = 1\n",
    "\n",
    "flameTrainList = pd.concat([X_train, Y_train.reindex(X_train.index)], axis=1).to_numpy()\n",
    "X = flameTrainList[:, :2]\n",
    "y = flameTrainList[:, 2:]\n",
    "\n",
    "clf_knn = neighbors.KNeighborsClassifier(n_neighbors, weights=\"distance\")\n",
    "clf_knn.fit(X, y)\n",
    "\n",
    "plot_boundaries(X, y, clf_knn, \"Figure 5 : Frontières de décision du KNN\",\n",
    "                \"V1\", \"V2\", r'./Graphs/Flame/Flame_LimitesDicKnn.png')"
   ]
  },
  {
   "cell_type": "code",
   "execution_count": null,
   "metadata": {},
   "outputs": [],
   "source": [
    "Y_pred_knn = clf_knn.predict(X_validation)\n",
    "print(\"- Accuracy score \\n\" + str(accuracy_score(y_true=Y_validation, y_pred=Y_pred_knn)))\n",
    "print(\"\\n- Confusion matrix \\n \" + str(confusion_matrix(Y_validation, Y_pred_knn)))\n",
    "print(\"\\n- Classification report \\n \" + str(classification_report(Y_validation, Y_pred_knn)))"
   ]
  },
  {
   "cell_type": "markdown",
   "metadata": {},
   "source": [
    "### Application du Naïve bayésienne"
   ]
  },
  {
   "cell_type": "code",
   "execution_count": null,
   "metadata": {},
   "outputs": [],
   "source": [
    "clf_BN = GaussianNB()\n",
    "clf_BN.fit(X_train,Y_train)\n",
    "Y_pred_BN = clf_BN.predict(X_validation)\n",
    "\n",
    "print(\"- Accuracy score \\n\" + str(accuracy_score(Y_validation, Y_pred_BN)))\n",
    "print(\"\\n- Confusion matrix \\n \" + str(confusion_matrix(Y_validation, Y_pred_BN)))\n",
    "print(\"\\n- Classification report \\n \" + str(classification_report(Y_validation, Y_pred_BN)))"
   ]
  },
  {
   "cell_type": "code",
   "execution_count": null,
   "metadata": {},
   "outputs": [],
   "source": [
    "clf_BN = GaussianNB()\n",
    "clf_BN.fit(X, y)\n",
    "\n",
    "plot_boundaries(X, y, clf_BN, \"Figure 6 : Frontières de décision du BN\",\n",
    "                \"V1\", \"V2\", r'./Graphs/Flame/Flame_LimitesDicBN.png')"
   ]
  },
  {
   "cell_type": "markdown",
   "metadata": {},
   "source": [
    "### Application de CART"
   ]
  },
  {
   "cell_type": "code",
   "execution_count": null,
   "metadata": {},
   "outputs": [],
   "source": [
    "clf_CART = DecisionTreeClassifier()\n",
    "clf_CART.fit(X_train,Y_train)\n",
    "Y_pred2 = clf_CART.predict(X_validation)"
   ]
  },
  {
   "cell_type": "code",
   "execution_count": null,
   "metadata": {},
   "outputs": [],
   "source": [
    "from sklearn.tree import plot_tree\n",
    "feature_cols=[\"V1\",\"V2\"]\n",
    "fig = plt.figure(figsize=(25,20))\n",
    "plot_tree(clf_CART, feature_names=feature_cols, class_names=[\"1\",\"2\"], filled=True)\n",
    "plt.savefig(r'./Graphs/Flame/Flame_ArbreCart.png')\n",
    "plt.title(\"CART Plot\")"
   ]
  },
  {
   "cell_type": "code",
   "execution_count": null,
   "metadata": {},
   "outputs": [],
   "source": [
    "clf_CART = DecisionTreeClassifier()\n",
    "clf_CART.fit(X, y)\n",
    "\n",
    "plot_boundaries(X, y, clf_CART, \"Figure 7 : Frontières de décision de CART\",\n",
    "                \"V1\", \"V2\", r'./Graphs/Flame/Flame_LimitesDicCART.png')"
   ]
  },
  {
   "cell_type": "code",
   "execution_count": null,
   "metadata": {},
   "outputs": [],
   "source": [
    "print(\"- Accuracy score \\n\" + str(accuracy_score(y_true=Y_validation, y_pred=Y_pred2)))\n",
    "print(\"\\n- Confusion matrix \\n \" + str(confusion_matrix(Y_validation, Y_pred2)))\n",
    "print(\"\\n- Classification report \\n \" + str(classification_report(Y_validation, Y_pred2)))"
   ]
  },
  {
   "cell_type": "markdown",
   "metadata": {},
   "source": [
    "### Application du RF"
   ]
  },
  {
   "cell_type": "code",
   "execution_count": null,
   "metadata": {},
   "outputs": [],
   "source": [
    "clf_RF = RandomForestClassifier()\n",
    "clf_RF.fit(X, y)\n",
    "\n",
    "plot_boundaries(X, y, clf_RF, \"Figure 8 : Fontières de décision de RF\",\n",
    "                \"V1\", \"V2\", r'./Graphs/Flame/Flame_LimitesDicRf.png')"
   ]
  },
  {
   "cell_type": "code",
   "execution_count": null,
   "metadata": {},
   "outputs": [],
   "source": [
    "Y_pred = clf_RF.predict(X_validation)\n",
    "print(\"- Accuracy score \\n\" + str(accuracy_score(y_true=Y_validation, y_pred=Y_pred)))\n",
    "print(\"\\n- Confusion matrix \\n \" + str(confusion_matrix(Y_validation, Y_pred)))\n",
    "print(\"\\n- Classification report \\n \" + str(classification_report(Y_validation, Y_pred)))"
   ]
  },
  {
   "cell_type": "markdown",
   "metadata": {},
   "source": [
    "### Application du LDA"
   ]
  },
  {
   "cell_type": "code",
   "execution_count": null,
   "metadata": {},
   "outputs": [],
   "source": [
    "clf_LDA = LinearDiscriminantAnalysis()\n",
    "clf_LDA.fit(X, y)\n",
    "\n",
    "plot_boundaries(X, y, clf_LDA, \"Figure 9 : Fontières de décision de LDA\",\n",
    "                \"V1\", \"V2\", r'./Graphs/Flame/Flame_LimitesDecLDA.png')"
   ]
  },
  {
   "cell_type": "code",
   "execution_count": null,
   "metadata": {},
   "outputs": [],
   "source": [
    "clf_LDA = LinearDiscriminantAnalysis()\n",
    "clf_LDA.fit(X_train, Y_train)\n",
    "Y_pred_LDA = clf_LDA.predict(X_validation)\n",
    "\n",
    "print(\"- Accuracy score \\n\" + str(accuracy_score(Y_validation, Y_pred_LDA)))\n",
    "print(\"\\n- Confusion matrix \\n \" + str(confusion_matrix(Y_validation, Y_pred_LDA)))\n",
    "print(\"\\n- Classification report \\n \" + str(classification_report(Y_validation, Y_pred_LDA)))"
   ]
  },
  {
   "cell_type": "markdown",
   "metadata": {},
   "source": [
    "### Comparaison des algorithmes de classification"
   ]
  },
  {
   "cell_type": "code",
   "execution_count": null,
   "metadata": {},
   "outputs": [],
   "source": [
    "num_folds = 10\n",
    "scoring = 'accuracy'\n",
    "\n",
    "models = []\n",
    "models.append(('KNN', KNeighborsClassifier()))\n",
    "models.append(('NB', GaussianNB()))\n",
    "models.append(('CART', DecisionTreeClassifier()))\n",
    "models.append(('RF', RandomForestClassifier()))\n",
    "models.append(('LDA', LinearDiscriminantAnalysis()))\n",
    "results = []\n",
    "names = []\n",
    "\n",
    "for name, model in models:\n",
    "\tkfold = KFold(n_splits=num_folds)\n",
    "\tcv_results = cross_val_score(model, X_train, Y_train, cv=kfold, scoring=scoring)\n",
    "\tresults.append(cv_results)\n",
    "\tnames.append(name)\n",
    "\tmsg = \"%s: %f (%f)\" % (name, cv_results.mean(), cv_results.std())\n",
    "\tprint(msg)\n"
   ]
  },
  {
   "cell_type": "code",
   "execution_count": null,
   "metadata": {},
   "outputs": [],
   "source": [
    "results_df = pd.DataFrame(results).transpose()\n",
    "results_df.columns = names\n",
    "results_df"
   ]
  },
  {
   "cell_type": "code",
   "execution_count": null,
   "metadata": {},
   "outputs": [],
   "source": [
    "palette = sns.color_palette(\"Set2\")\n",
    "plt.figure(figsize=(15,8))\n",
    "bplot = sns.boxplot(data=results_df, width=0.5, palette=palette)\n",
    "bplot.set_title('Figure 10 : Comparison des algorithmes')\n",
    "plt.ylabel(\"Scores de précision par test\")\n",
    "plt.savefig(r'./Graphs/Flame/Flame_compAlgos.png')"
   ]
  }
 ],
 "metadata": {
  "kernelspec": {
   "display_name": "Python 3",
   "language": "python",
   "name": "python3"
  },
  "language_info": {
   "codemirror_mode": {
    "name": "ipython",
    "version": 3
   },
   "file_extension": ".py",
   "mimetype": "text/x-python",
   "name": "python",
   "nbconvert_exporter": "python",
   "pygments_lexer": "ipython3",
   "version": "3.7.3"
  }
 },
 "nbformat": 4,
 "nbformat_minor": 2
}
